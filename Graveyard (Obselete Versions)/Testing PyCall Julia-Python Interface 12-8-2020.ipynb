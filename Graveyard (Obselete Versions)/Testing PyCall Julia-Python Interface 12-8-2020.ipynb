{
 "cells": [
  {
   "cell_type": "code",
   "execution_count": 3,
   "metadata": {},
   "outputs": [],
   "source": [
    "from julia.api import Julia\n",
    "jl = Julia(compiled_modules=False)\n",
    "# import julia"
   ]
  },
  {
   "cell_type": "code",
   "execution_count": 4,
   "metadata": {},
   "outputs": [
    {
     "name": "stdout",
     "output_type": "stream",
     "text": [
      "Initializing Julia interpreter. This may take some time...\n"
     ]
    }
   ],
   "source": [
    "%load_ext julia.magic"
   ]
  },
  {
   "cell_type": "code",
   "execution_count": 5,
   "metadata": {},
   "outputs": [
    {
     "data": {
      "text/plain": [
       "array([[2, 3],\n",
       "       [4, 5]], dtype=int64)"
      ]
     },
     "execution_count": 5,
     "metadata": {},
     "output_type": "execute_result"
    }
   ],
   "source": [
    "%julia [1 2; 3 4] .+ 1"
   ]
  },
  {
   "cell_type": "code",
   "execution_count": 7,
   "metadata": {},
   "outputs": [],
   "source": [
    "%julia using Gen"
   ]
  },
  {
   "cell_type": "code",
   "execution_count": 8,
   "metadata": {},
   "outputs": [
    {
     "name": "stdout",
     "output_type": "stream",
     "text": [
      "pygame 2.0.1 (SDL 2.0.14, Python 3.7.3)\n",
      "Hello from the pygame community. https://www.pygame.org/contribute.html\n"
     ]
    }
   ],
   "source": [
    "import pygame\n",
    "import sys"
   ]
  },
  {
   "cell_type": "code",
   "execution_count": 9,
   "metadata": {},
   "outputs": [],
   "source": [
    "import os\n",
    "import random"
   ]
  },
  {
   "cell_type": "code",
   "execution_count": 4,
   "metadata": {},
   "outputs": [
    {
     "ename": "SystemExit",
     "evalue": "",
     "output_type": "error",
     "traceback": [
      "An exception has occurred, use %tb to see the full traceback.\n",
      "\u001b[0;31mSystemExit\u001b[0m\n"
     ]
    },
    {
     "name": "stderr",
     "output_type": "stream",
     "text": [
      "/opt/anaconda3/envs/gaming_environment/lib/python3.7/site-packages/IPython/core/interactiveshell.py:3333: UserWarning: To exit: use 'exit', 'quit', or Ctrl-D.\n",
      "  warn(\"To exit: use 'exit', 'quit', or Ctrl-D.\", stacklevel=1)\n"
     ]
    }
   ],
   "source": [
    "pygame.init()\n",
    "# window of desired size, a surface obj\n",
    "screen = pygame.display.set_mode((400,300))\n",
    "done = False\n",
    "is_blue = True\n",
    "x = 30\n",
    "y = 30    \n",
    "\n",
    "clock = pygame.time.Clock()\n",
    "\n",
    "while not done:\n",
    "    # We first adjust the frame update rate to be reasonable\n",
    "    clock.tick(60) # wait 1/60s before executing this loop\n",
    "    \n",
    "    \n",
    "    \n",
    "    # pygame.event.get() clears the event \n",
    "    #queue. If don't call, the window's \n",
    "    #messages will pile up, game gets slow\n",
    "    # EVENT PUMPING\n",
    "    for event in pygame.event.get():\n",
    "        # pygame.QUIT called when you hit \n",
    "        # x marker in corner\n",
    "        if event.type == pygame.QUIT:\n",
    "            done = True\n",
    "        if event.type == pygame.KEYDOWN and event.key == pygame.K_SPACE:\n",
    "            is_blue = not is_blue\n",
    "        \n",
    "    pressed = pygame.key.get_pressed()\n",
    "    if pressed[pygame.K_UP]: y -= 3\n",
    "    if pressed[pygame.K_DOWN]: y += 3\n",
    "    if pressed[pygame.K_LEFT]: x -= 3\n",
    "    if pressed[pygame.K_RIGHT]: x += 3\n",
    "    #interactivity from if statements in the event queue\n",
    "    if is_blue: \n",
    "        color = (0,128,255)\n",
    "    else: \n",
    "        color = (255,100,0)\n",
    "    # display some objects\n",
    "    # first, reset the screen before displaying things otherwise won't update right:\n",
    "    screen.fill((0,0,0))\n",
    "    # render the rect\n",
    "    pygame.draw.rect(screen, color, pygame.Rect(x,y,60,60))\n",
    "            \n",
    "    # pygame is double buffered -- has 2 \n",
    "    # buffers. Whatever is the latest screen\n",
    "    # needs to be displayed. So a load\n",
    "    # buffer and a display buffer\n",
    "    pygame.display.flip()\n",
    "        \n",
    "    \n",
    "\n",
    "pygame.quit()\n",
    "sys.exit()"
   ]
  },
  {
   "cell_type": "markdown",
   "metadata": {},
   "source": [
    "# Test Pool Ball World"
   ]
  },
  {
   "cell_type": "code",
   "execution_count": 5,
   "metadata": {},
   "outputs": [
    {
     "ename": "SystemExit",
     "evalue": "",
     "output_type": "error",
     "traceback": [
      "An exception has occurred, use %tb to see the full traceback.\n",
      "\u001b[0;31mSystemExit\u001b[0m\n"
     ]
    }
   ],
   "source": [
    "tableSize = [8*100, 4*100] \n",
    "tableEdges = 20\n",
    "\n",
    "# to include images, we need the png sources in the working directory\n",
    "# I'll use John's head as example - johnpic.jpg\n",
    "\n",
    "_image_library = {}\n",
    "#image = pygame.image.load('johnpic.jpg')\n",
    "_songs = ['stressclock.mp3', 'stressclock.mp3']#'stresspulse.mp3']\n",
    "_currently_playing_song = None\n",
    "\n",
    "\n",
    "def get_image(path):\n",
    "    global _image_library\n",
    "    image = _image_library.get(path)\n",
    "    if image == None:\n",
    "        canonicalized_path = path.replace('/', os.sep).replace('\\\\', os.sep)\n",
    "        image = pygame.image.load(canonicalized_path)\n",
    "        _image_library[path] = image\n",
    "    return image\n",
    "image = get_image('johnpic.jpg')\n",
    "\n",
    "def play_a_different_song():\n",
    "    global _currently_playing_song, _songs\n",
    "    next_song = random.choice(_songs)\n",
    "    while next_song == _currently_playing_song:\n",
    "        next_song = random.choice(_songs)\n",
    "        _currently_playing_song = next_song\n",
    "        pygame.mixer.music.load(next_song)\n",
    "        pygame.mixer.music.play()\n",
    "        \n",
    "_sound_library = {}\n",
    "def play_sound(path):\n",
    "    global _sound_library\n",
    "    sound = _sound_library.get(path)\n",
    "    if sound == None:\n",
    "        cannonicalized_path = path.replace('/', os.sep).replace('\\\\', os.sep)\n",
    "        sound = pygame.mixer.Sound(cannonicalized_path)\n",
    "        _sound_library[path] = sound\n",
    "    sound.play()\n",
    "    \n",
    "    \n",
    "def draw_grid(surface, tableSize, tableEdges):\n",
    "    table = pygame.draw.rect(screen, (255,255,255), (tableEdges,tableEdges, tableSize[0], tableSize[1]))\n",
    "    color = (0.8*255,0.8*255,0.8*255)\n",
    "    xpnts = range(1, tableSize[0], 100)\n",
    "    ypnts = range(1, tableSize[1], 100)\n",
    "    for i in range(1,len(xpnts)):\n",
    "        pygame.draw.line(surface, color, (xpnts[i]+tableEdges,1+tableEdges), (xpnts[i]+tableEdges,tableSize[1]+tableEdges), 1)\n",
    "    for i in range(1,len(ypnts)):\n",
    "        pygame.draw.line(surface, color, (1+tableEdges,ypnts[i]+tableEdges), (tableSize[0]+tableEdges,ypnts[i]+tableEdges), 1)\n",
    "    return table\n",
    "    \n",
    "    \n",
    "    \n",
    "\n",
    "\n",
    "pygame.init()\n",
    "\n",
    "\n",
    "# Including music -- can play a song once or on a loop\n",
    "pygame.mixer.music.load('stressclock.mp3')\n",
    "pygame.mixer.music.play(-1) # indexes from 1, so zero means play once.\n",
    "# to play infinitely, use -1, to play once is 0\n",
    "# pygame.mixer.music.stop() -- stops current song and also erases whole queue\n",
    "\n",
    "\n",
    "\n",
    "# window of desired size, a surface obj\n",
    "screen = pygame.display.set_mode((tableSize[0] + 2*tableEdges,tableSize[1] + 2*tableEdges))\n",
    "\n",
    "\n",
    "table = draw_grid(screen, tableSize,tableEdges)\n",
    " \n",
    "done = False\n",
    "has_collided = False\n",
    "xs = [30,60]\n",
    "ys = [30,100]\n",
    "colors = [(0,128,255), (255,100,0)]\n",
    "\n",
    "\n",
    "clock = pygame.time.Clock()\n",
    "\n",
    "while not done:    \n",
    "    # pygame.event.get() clears the event \n",
    "    #queue. If don't call, the window's \n",
    "    #messages will pile up, game gets slow\n",
    "    # EVENT PUMPING\n",
    "    for event in pygame.event.get():\n",
    "        # pygame.QUIT called when you hit \n",
    "        # x marker in corner\n",
    "        if event.type == pygame.QUIT:\n",
    "            done = True\n",
    "        if event.type == pygame.KEYDOWN and event.key == pygame.K_SPACE:\n",
    "            has_collided = not has_collided\n",
    "        \n",
    "    pressed = pygame.key.get_pressed()\n",
    "    if pressed[pygame.K_UP]: ys[0] -= 3\n",
    "    if pressed[pygame.K_DOWN]: ys[0] += 3\n",
    "    if pressed[pygame.K_LEFT]: xs[0] -= 3\n",
    "    if pressed[pygame.K_RIGHT]: xs[0] += 3\n",
    "    \n",
    "    if not all(i > 0 or i < tableSize[0] for i in xs) or not all(i > 0 or i < tableSize[1] for i in ys):\n",
    "#        pygame.mixer.music.load('stresspulse.mp3')\n",
    "#        pygame.mixer.music.play(0)\n",
    "        # this version plays our sound only once\n",
    "        effect = pygame.mixer.Sound('stresspulse.mp3')\n",
    "        effect.play(0)\n",
    "        # queues the next song to start after...\n",
    "#        pygame.mixer.music.queue('stressclock.mp3')\n",
    "    \n",
    "    #interactivity from if statements in the event queue\n",
    "    if has_collided: \n",
    "        colors[0] = (255,0,0)\n",
    "    else: \n",
    "        colors[0] = (0,128,255)\n",
    "    # display some objects\n",
    "    # first, reset the screen before displaying things otherwise won't update right:\n",
    "    screen.fill((0,0,0))\n",
    "    # draw the grid\n",
    "    table = draw_grid(screen, tableSize,tableEdges)\n",
    "    # draw our pool balls\n",
    "    for i in range(0, len(xs)):\n",
    "        pygame.draw.circle(screen, colors[i], (xs[i],ys[i]),25)\n",
    "    \n",
    "\n",
    "            \n",
    "    # pygame is double buffered -- has 2 \n",
    "    # buffers. Whatever is the latest screen\n",
    "    # needs to be displayed. So a load\n",
    "    # buffer and a display buffer\n",
    "    pygame.display.flip()\n",
    "    \n",
    "    # We first adjust the frame update rate to be reasonable\n",
    "    clock.tick(60) # wait 1/60s before executing this loop, 60fps\n",
    "    \n",
    "        \n",
    "    \n",
    "\n",
    "pygame.quit()\n",
    "sys.exit()"
   ]
  },
  {
   "cell_type": "code",
   "execution_count": null,
   "metadata": {},
   "outputs": [],
   "source": []
  }
 ],
 "metadata": {
  "kernelspec": {
   "display_name": "Python Gaming Environment2",
   "language": "python",
   "name": "gaming-environment"
  },
  "language_info": {
   "codemirror_mode": {
    "name": "ipython",
    "version": 3
   },
   "file_extension": ".py",
   "mimetype": "text/x-python",
   "name": "python",
   "nbconvert_exporter": "python",
   "pygments_lexer": "ipython3",
   "version": "3.7.3"
  }
 },
 "nbformat": 4,
 "nbformat_minor": 2
}
