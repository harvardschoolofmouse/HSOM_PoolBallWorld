{
 "cells": [
  {
   "cell_type": "code",
   "execution_count": 1,
   "metadata": {},
   "outputs": [],
   "source": [
    "from julia.api import Julia\n",
    "jl = Julia(compiled_modules=False)"
   ]
  },
  {
   "cell_type": "code",
   "execution_count": 2,
   "metadata": {},
   "outputs": [
    {
     "name": "stdout",
     "output_type": "stream",
     "text": [
      "Initializing Julia interpreter. This may take some time...\n"
     ]
    }
   ],
   "source": [
    "%load_ext julia.magic"
   ]
  },
  {
   "cell_type": "code",
   "execution_count": 3,
   "metadata": {},
   "outputs": [
    {
     "data": {
      "text/plain": [
       "array([[2, 3],\n",
       "       [4, 5]], dtype=int64)"
      ]
     },
     "execution_count": 3,
     "metadata": {},
     "output_type": "execute_result"
    }
   ],
   "source": [
    "%julia [1 2; 3 4] .+ 1"
   ]
  },
  {
   "cell_type": "code",
   "execution_count": 4,
   "metadata": {},
   "outputs": [],
   "source": [
    "%julia using Gen"
   ]
  },
  {
   "cell_type": "code",
   "execution_count": 4,
   "metadata": {},
   "outputs": [
    {
     "name": "stdout",
     "output_type": "stream",
     "text": [
      "pygame 2.0.0 (SDL 2.0.12, python 3.7.3)\n",
      "Hello from the pygame community. https://www.pygame.org/contribute.html\n"
     ]
    }
   ],
   "source": [
    "import pygame\n",
    "import sys"
   ]
  },
  {
   "cell_type": "code",
   "execution_count": null,
   "metadata": {},
   "outputs": [],
   "source": [
    "pygame.init()\n",
    "# window of desired size, a surface obj\n",
    "screen = pygame.display.set_mode((400,300))\n",
    "done = False\n",
    "is_blue = True\n",
    "x = 30\n",
    "y = 30    \n",
    "\n",
    "clock = pygame.time.Clock()\n",
    "\n",
    "while not done:\n",
    "    # We first adjust the frame update rate to be reasonable\n",
    "    clock.tick(60) # wait 1/60s before executing this loop\n",
    "    \n",
    "    \n",
    "    \n",
    "    # pygame.event.get() clears the event \n",
    "    #queue. If don't call, the window's \n",
    "    #messages will pile up, game gets slow\n",
    "    # EVENT PUMPING\n",
    "    for event in pygame.event.get():\n",
    "        # pygame.QUIT called when you hit \n",
    "        # x marker in corner\n",
    "        if event.type == pygame.QUIT:\n",
    "            done = True\n",
    "        if event.type == pygame.KEYDOWN and event.key == pygame.K_SPACE:\n",
    "            is_blue = not is_blue\n",
    "        \n",
    "    pressed = pygame.key.get_pressed()\n",
    "    if pressed[pygame.K_UP]: y -= 3\n",
    "    if pressed[pygame.K_DOWN]: y += 3\n",
    "    if pressed[pygame.K_LEFT]: x -= 3\n",
    "    if pressed[pygame.K_RIGHT]: x += 3\n",
    "    #interactivity from if statements in the event queue\n",
    "    if is_blue: \n",
    "        color = (0,128,255)\n",
    "    else: \n",
    "        color = (255,100,0)\n",
    "    # display some objects\n",
    "    # first, reset the screen before displaying things otherwise won't update right:\n",
    "    screen.fill((0,0,0))\n",
    "    # render the rect\n",
    "    pygame.draw.rect(screen, color, pygame.Rect(x,y,60,60))\n",
    "            \n",
    "    # pygame is double buffered -- has 2 \n",
    "    # buffers. Whatever is the latest screen\n",
    "    # needs to be displayed. So a load\n",
    "    # buffer and a display buffer\n",
    "    pygame.display.flip()\n",
    "        \n",
    "    \n",
    "\n",
    "pygame.quit()\n",
    "sys.exit()"
   ]
  },
  {
   "cell_type": "code",
   "execution_count": null,
   "metadata": {},
   "outputs": [],
   "source": []
  }
 ],
 "metadata": {
  "kernelspec": {
   "display_name": "Python Gaming Environment",
   "language": "python",
   "name": "gaming-environment"
  },
  "language_info": {
   "codemirror_mode": {
    "name": "ipython",
    "version": 3
   },
   "file_extension": ".py",
   "mimetype": "text/x-python",
   "name": "python",
   "nbconvert_exporter": "python",
   "pygments_lexer": "ipython3",
   "version": "3.7.3"
  }
 },
 "nbformat": 4,
 "nbformat_minor": 2
}
